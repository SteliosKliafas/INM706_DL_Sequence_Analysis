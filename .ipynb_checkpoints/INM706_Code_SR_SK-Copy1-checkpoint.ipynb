{
 "cells": [
  {
   "cell_type": "markdown",
   "metadata": {},
   "source": [
    "# INM706 Deep Learning for Sequence Analysis\n",
    "### Sarah Rhalem (190051884) & Stelios Kliafas (########)"
   ]
  },
  {
   "cell_type": "markdown",
   "metadata": {},
   "source": [
    "Draft Notes/ Working comments:\n",
    "Dataset >> Problem +Evaluation Metric >> Model"
   ]
  },
  {
   "cell_type": "code",
   "execution_count": 76,
   "metadata": {},
   "outputs": [],
   "source": [
    "import os\n",
    "import json\n",
    "import torch\n",
    "import numpy as np\n",
    "import pandas as pd\n",
    "from torch.utils.data import Dataset, dataloader\n",
    "\n",
    "from transformers import GPT2LMHeadModel, GPT2Tokenizer\n",
    "from datasets import load_dataset\n"
   ]
  },
  {
   "cell_type": "code",
   "execution_count": 64,
   "metadata": {},
   "outputs": [
    {
     "name": "stdout",
     "output_type": "stream",
     "text": [
      "cuda:0\n"
     ]
    }
   ],
   "source": [
    "#Set to use GPU on device if available:\n",
    "device=torch.device(\"cuda:0\" if torch.cuda.is_available() else \"cpu\")\n",
    "print(device)"
   ]
  },
  {
   "cell_type": "code",
   "execution_count": 65,
   "metadata": {},
   "outputs": [],
   "source": [
    "# Load model and Tokenizer\n",
    "\n",
    "tokenizer = GPT2Tokenizer.from_pretrained('gpt2')\n",
    "model= GPT2LMHeadModel.from_pretrained('gpt2', pad_token_id=tokenizer.eos_token_id)  \n",
    "model= model.to(device)"
   ]
  },
  {
   "cell_type": "code",
   "execution_count": 74,
   "metadata": {},
   "outputs": [
    {
     "data": {
      "text/plain": [
       "'C:\\\\Users\\\\sarah\\\\Documents\\\\MSc AI 2020_2021\\\\INM706\\\\INM706_DL_Sequence_Analysis'"
      ]
     },
     "execution_count": 74,
     "metadata": {},
     "output_type": "execute_result"
    }
   ],
   "source": [
    "os.getcwd()"
   ]
  },
  {
   "cell_type": "code",
   "execution_count": 75,
   "metadata": {},
   "outputs": [
    {
     "name": "stderr",
     "output_type": "stream",
     "text": [
      "Using custom data configuration default-72c05218019d6ad6\n"
     ]
    },
    {
     "name": "stdout",
     "output_type": "stream",
     "text": [
      "Downloading and preparing dataset csv/default (download: Unknown size, generated: Unknown size, post-processed: Unknown size, total: Unknown size) to C:\\Users\\sarah\\.cache\\huggingface\\datasets\\csv\\default-72c05218019d6ad6\\0.0.0\\2a88c45fed596f9421a2e7f74ab1a3cd012ef75210a5dc1950e8d60ca8d9c66c...\n"
     ]
    },
    {
     "data": {
      "application/vnd.jupyter.widget-view+json": {
       "model_id": "",
       "version_major": 2,
       "version_minor": 0
      },
      "text/plain": [
       "HBox(children=(FloatProgress(value=1.0, bar_style='info', max=1.0), HTML(value='')))"
      ]
     },
     "metadata": {},
     "output_type": "display_data"
    },
    {
     "name": "stdout",
     "output_type": "stream",
     "text": [
      "\r",
      "Dataset csv downloaded and prepared to C:\\Users\\sarah\\.cache\\huggingface\\datasets\\csv\\default-72c05218019d6ad6\\0.0.0\\2a88c45fed596f9421a2e7f74ab1a3cd012ef75210a5dc1950e8d60ca8d9c66c. Subsequent calls will reuse this data.\n"
     ]
    }
   ],
   "source": [
    "# Load csv dataset \n",
    "\n",
    "dataset=load_dataset('csv', data_files= [os.path.join(\"Data\\\\netflix_titles.csv\")], )"
   ]
  },
  {
   "cell_type": "code",
   "execution_count": 87,
   "metadata": {
    "scrolled": true
   },
   "outputs": [
    {
     "name": "stdout",
     "output_type": "stream",
     "text": [
      "['s1', 'TV Show', '3%', '', 'JoÃ£o Miguel, Bianca Comparato, Michel Gomes, Rodolfo Valente, Vaneza Oliveira, Rafael Lozano, Viviane Porto, Mel Fronckowiak, Sergio Mamberti, ZezÃ© Motta, Celso Frateschi', 'Brazil', 'August 14, 2020', '2020', 'TV-MA', '4 Seasons', 'International TV Shows, TV Dramas, TV Sci-Fi & Fantasy', 'In a future where the elite inhabit an island paradise far from the crowded slums, you get one chance to join the 3% saved from squalor.']\n",
      "['s2', 'Movie', '7:19', 'Jorge Michel Grau', 'DemiÃ¡n Bichir, HÃ©ctor Bonilla, Oscar Serrano, Azalia Ortiz, Octavio Michel, Carmen Beato', 'Mexico', 'December 23, 2016', '2016', 'TV-MA', '93 min', 'Dramas, International Movies', 'After a devastating earthquake hits Mexico City, trapped survivors from all walks of life wait to be rescued while trying desperately to stay alive.']\n",
      "['s3', 'Movie', '23:59', 'Gilbert Chan', 'Tedd Chan, Stella Chung, Henley Hii, Lawrence Koh, Tommy Kuan, Josh Lai, Mark Lee, Susan Leong, Benjamin Lim', 'Singapore', 'December 20, 2018', '2011', 'R', '78 min', 'Horror Movies, International Movies', \"When an army recruit is found dead, his fellow soldiers are forced to confront a terrifying secret that's haunting their jungle island training camp.\"]\n",
      "['s4', 'Movie', '9', 'Shane Acker', 'Elijah Wood, John C. Reilly, Jennifer Connelly, Christopher Plummer, Crispin Glover, Martin Landau, Fred Tatasciore, Alan Oppenheimer, Tom Kane', 'United States', 'November 16, 2017', '2009', 'PG-13', '80 min', 'Action & Adventure, Independent Movies, Sci-Fi & Fantasy', 'In a postapocalyptic world, rag-doll robots hide in fear from dangerous machines out to exterminate them, until a brave newcomer joins the group.']\n",
      "['s5', 'Movie', '21', 'Robert Luketic', 'Jim Sturgess, Kevin Spacey, Kate Bosworth, Aaron Yoo, Liza Lapira, Jacob Pitts, Laurence Fishburne, Jack McGee, Josh Gad, Sam Golzari, Helen Carey, Jack Gilpin', 'United States', 'January 1, 2020', '2008', 'PG-13', '123 min', 'Dramas', 'A brilliant group of students become card-counting experts with the intent of swindling millions out of Las Vegas casinos by playing blackjack.']\n",
      "['s6', 'TV Show', '46', 'Serdar Akar', 'Erdal BeÅŸikÃ§ioÄŸlu, Yasemin Allen, Melis Birkan, SaygÄ±n Soysal, Berkan Åžal, Metin Belgin, AyÃ§a Eren, Selin UludoÄŸan, Ã–zay Fecht, Suna YÄ±ldÄ±zoÄŸlu', 'Turkey', 'July 1, 2017', '2016', 'TV-MA', '1 Season', 'International TV Shows, TV Dramas, TV Mysteries', 'A genetics professor experiments with a treatment for his comatose sister that blends medical and shamanic cures, but unlocks a shocking side effect.']\n",
      "['s7', 'Movie', '122', 'Yasir Al Yasiri', 'Amina Khalil, Ahmed Dawood, Tarek Lotfy, Ahmed El Fishawy, Mahmoud Hijazi, Jihane Khalil, Asmaa Galal, Tara Emad', 'Egypt', 'June 1, 2020', '2019', 'TV-MA', '95 min', 'Horror Movies, International Movies', 'After an awful accident, a couple admitted to a grisly hospital are separated and must find each other to escape â€” before death finds them.']\n",
      "['s8', 'Movie', '187', 'Kevin Reynolds', 'Samuel L. Jackson, John Heard, Kelly Rowan, Clifton Collins Jr., Tony Plana', 'United States', 'November 1, 2019', '1997', 'R', '119 min', 'Dramas', 'After one of his high school students attacks him, dedicated teacher Trevor Garfield grows weary of the gang warfare in the New York City school system and moves to California to teach there, thinking it must be a less hostile environment.']\n",
      "['s9', 'Movie', '706', 'Shravan Kumar', 'Divya Dutta, Atul Kulkarni, Mohan Agashe, Anupam Shyam, Raayo S. Bakhirta, Yashvit Sancheti, Greeva Kansara, Archan Trivedi, Rajiv Pathak', 'India', 'April 1, 2019', '2019', 'TV-14', '118 min', 'Horror Movies, International Movies', \"When a doctor goes missing, his psychiatrist wife treats the bizarre medical condition of a psychic patient, who knows much more than he's leading on.\"]\n",
      "['s10', 'Movie', '1920', 'Vikram Bhatt', 'Rajneesh Duggal, Adah Sharma, Indraneil Sengupta, Anjori Alagh, Rajendranath Zutshi, Vipin Sharma, Amin Hajee, Shri Vallabh Vyas', 'India', 'December 15, 2017', '2008', 'TV-MA', '143 min', 'Horror Movies, International Movies, Thrillers', 'An architect and his wife move into a castle that is slated to become a luxury hotel. But something inside is determined to stop the renovation.']\n",
      "['s11', 'Movie', '1922', 'Zak Hilditch', \"Thomas Jane, Molly Parker, Dylan Schmid, Kaitlyn Bernard, Bob Frazer, Brian d'Arcy James, Neal McDonough\", 'United States', 'October 20, 2017', '2017', 'TV-MA', '103 min', 'Dramas, Thrillers', \"A farmer pens a confession admitting to his wife's murder, but her death is just the beginning of a macabre tale. Based on Stephen King's novella.\"]\n",
      "['s12', 'TV Show', '1983', '', 'Robert WiÄ™ckiewicz, Maciej MusiaÅ‚, Michalina OlszaÅ„ska, Andrzej Chyra, Clive Russell, Zofia WichÅ‚acz, Edyta OlszÃ³wka, Mateusz KoÅ›ciukiewicz, Ewa BÅ‚aszczyk, Vu Le Hong, Tomasz WÅ‚osok, Krzysztof Wach', 'Poland, United States', 'November 30, 2018', '2018', 'TV-MA', '1 Season', 'Crime TV Shows, International TV Shows, TV Dramas', 'In this dark alt-history thriller, a naÃ¯ve law student and a world-weary detective uncover a conspiracy that has tyrannized Poland for decades.']\n",
      "['s13', 'TV Show', '1994', 'Diego Enrique Osorno', '', 'Mexico', 'May 17, 2019', '2019', 'TV-MA', '1 Season', 'Crime TV Shows, Docuseries, International TV Shows', 'Archival video and new interviews examine Mexican politics in 1994, a year marked by the rise of the EZLN and the assassination of Luis Donaldo Colosio.']\n",
      "['s14', 'Movie', '2,215', 'Nottapon Boonprakob', 'Artiwara Kongmalai', 'Thailand', 'March 1, 2019', '2018', 'TV-MA', '89 min', 'Documentaries, International Movies, Sports Movies', 'This intimate documentary follows rock star Artiwara Kongmalai on his historic, 2,215-kilometer charity run across Thailand in 2017.']\n",
      "['s15', 'Movie', '3022', 'John Suits', 'Omar Epps, Kate Walsh, Miranda Cosgrove, Angus Macfadyen, Jorja Fox, Enver Gjokaj, Haaz Sleiman', 'United States', 'March 19, 2020', '2019', 'R', '91 min', 'Independent Movies, Sci-Fi & Fantasy, Thrillers', 'Stranded when the Earth is suddenly destroyed in a mysterious cataclysm, the astronauts aboard a marooned space station slowly lose their minds.']\n",
      "['s16', 'Movie', 'Oct-01', 'Kunle Afolayan', 'Sadiq Daba, David Bailie, Kayode Olaiya, Kehinde Bankole, Fabian Adeoye Lojede, Nick Rhys, Kunle Afolayan, Colin David Reese, Ibrahim Shatta, Femi Adebayo, Kanayo O. Kanayo, Lawrence Stubbings, Ademola Adedoyin', 'Nigeria', 'September 1, 2019', '2014', 'TV-14', '149 min', 'Dramas, International Movies, Thrillers', \"Against the backdrop of Nigeria's looming independence from Britain, detective Danladi Waziri races to capture a killer terrorizing local women.\"]\n",
      "['s17', 'TV Show', 'Feb-09', '', 'Shahd El Yaseen, Shaila Sabt, Hala, Hanadi Al-Kandari, Salma Salem, Ibrahim Al-Harbi, Mahmoud Boushahri, Yousef Al Balushi, Ghorour, Abdullah Al-bloshi', '', 'March 20, 2019', '2018', 'TV-14', '1 Season', 'International TV Shows, TV Dramas', \"As a psychology professor faces Alzheimer's, his daughter and her three close female friends experience romance, marriage, heartbreak and tragedy.\"]\n",
      "['s18', 'Movie', '22-Jul', 'Paul Greengrass', 'Anders Danielsen Lie, Jon Ã˜igarden, Jonas Strand Gravli, Ola G. Furuseth, Maria Bock, ThorbjÃ¸rn Harr, Jaden Smith', 'Norway, Iceland, United States', 'October 10, 2018', '2018', 'R', '144 min', 'Dramas, Thrillers', 'After devastating terror attacks in Norway, a young survivor, grieving families and the country rally for justice and healing. Based on a true story.']\n",
      "['s19', 'Movie', '15-Aug', 'Swapnaneel Jayakar', 'Rahul Pethe, Mrunmayee Deshpande, Adinath Kothare, Vaibhav Mangale, Jaywant Wadkar, Satish Pulekar, Naina Apte, Uday Tikekar', 'India', 'March 29, 2019', '2019', 'TV-14', '124 min', 'Comedies, Dramas, Independent Movies', \"On India's Independence Day, a zany mishap in a Mumbai chawl disrupts a young love story while compelling the residents to unite in aid of a little boy.\"]\n",
      "['s20', 'Movie', \"'89\", '', 'Lee Dixon, Ian Wright, Paul Merson', 'United Kingdom', 'May 16, 2018', '2017', 'TV-PG', '87 min', 'Sports Movies', \"Mixing old footage with interviews, this is the story of Arsenal's improbable win versus Liverpool in the final moments of the 1989 championship game.\"]\n"
     ]
    },
    {
     "ename": "UnicodeDecodeError",
     "evalue": "'charmap' codec can't decode byte 0x81 in position 6032: character maps to <undefined>",
     "output_type": "error",
     "traceback": [
      "\u001b[1;31m---------------------------------------------------------------------------\u001b[0m",
      "\u001b[1;31mUnicodeDecodeError\u001b[0m                        Traceback (most recent call last)",
      "\u001b[1;32m<ipython-input-87-3639532a650e>\u001b[0m in \u001b[0;36m<module>\u001b[1;34m\u001b[0m\n\u001b[0;32m      6\u001b[0m     \u001b[0mnext\u001b[0m\u001b[1;33m(\u001b[0m\u001b[0mcsv_reader\u001b[0m\u001b[1;33m)\u001b[0m\u001b[1;33m\u001b[0m\u001b[1;33m\u001b[0m\u001b[0m\n\u001b[0;32m      7\u001b[0m \u001b[1;33m\u001b[0m\u001b[0m\n\u001b[1;32m----> 8\u001b[1;33m     \u001b[1;32mfor\u001b[0m \u001b[0mline\u001b[0m \u001b[1;32min\u001b[0m \u001b[0mcsv_reader\u001b[0m\u001b[1;33m:\u001b[0m\u001b[1;33m\u001b[0m\u001b[1;33m\u001b[0m\u001b[0m\n\u001b[0m\u001b[0;32m      9\u001b[0m         \u001b[0mprint\u001b[0m\u001b[1;33m(\u001b[0m\u001b[0mline\u001b[0m\u001b[1;33m)\u001b[0m\u001b[1;33m\u001b[0m\u001b[1;33m\u001b[0m\u001b[0m\n",
      "\u001b[1;32m~\\anaconda3\\lib\\encodings\\cp1252.py\u001b[0m in \u001b[0;36mdecode\u001b[1;34m(self, input, final)\u001b[0m\n\u001b[0;32m     21\u001b[0m \u001b[1;32mclass\u001b[0m \u001b[0mIncrementalDecoder\u001b[0m\u001b[1;33m(\u001b[0m\u001b[0mcodecs\u001b[0m\u001b[1;33m.\u001b[0m\u001b[0mIncrementalDecoder\u001b[0m\u001b[1;33m)\u001b[0m\u001b[1;33m:\u001b[0m\u001b[1;33m\u001b[0m\u001b[1;33m\u001b[0m\u001b[0m\n\u001b[0;32m     22\u001b[0m     \u001b[1;32mdef\u001b[0m \u001b[0mdecode\u001b[0m\u001b[1;33m(\u001b[0m\u001b[0mself\u001b[0m\u001b[1;33m,\u001b[0m \u001b[0minput\u001b[0m\u001b[1;33m,\u001b[0m \u001b[0mfinal\u001b[0m\u001b[1;33m=\u001b[0m\u001b[1;32mFalse\u001b[0m\u001b[1;33m)\u001b[0m\u001b[1;33m:\u001b[0m\u001b[1;33m\u001b[0m\u001b[1;33m\u001b[0m\u001b[0m\n\u001b[1;32m---> 23\u001b[1;33m         \u001b[1;32mreturn\u001b[0m \u001b[0mcodecs\u001b[0m\u001b[1;33m.\u001b[0m\u001b[0mcharmap_decode\u001b[0m\u001b[1;33m(\u001b[0m\u001b[0minput\u001b[0m\u001b[1;33m,\u001b[0m\u001b[0mself\u001b[0m\u001b[1;33m.\u001b[0m\u001b[0merrors\u001b[0m\u001b[1;33m,\u001b[0m\u001b[0mdecoding_table\u001b[0m\u001b[1;33m)\u001b[0m\u001b[1;33m[\u001b[0m\u001b[1;36m0\u001b[0m\u001b[1;33m]\u001b[0m\u001b[1;33m\u001b[0m\u001b[1;33m\u001b[0m\u001b[0m\n\u001b[0m\u001b[0;32m     24\u001b[0m \u001b[1;33m\u001b[0m\u001b[0m\n\u001b[0;32m     25\u001b[0m \u001b[1;32mclass\u001b[0m \u001b[0mStreamWriter\u001b[0m\u001b[1;33m(\u001b[0m\u001b[0mCodec\u001b[0m\u001b[1;33m,\u001b[0m\u001b[0mcodecs\u001b[0m\u001b[1;33m.\u001b[0m\u001b[0mStreamWriter\u001b[0m\u001b[1;33m)\u001b[0m\u001b[1;33m:\u001b[0m\u001b[1;33m\u001b[0m\u001b[1;33m\u001b[0m\u001b[0m\n",
      "\u001b[1;31mUnicodeDecodeError\u001b[0m: 'charmap' codec can't decode byte 0x81 in position 6032: character maps to <undefined>"
     ]
    }
   ],
   "source": [
    "import csv\n",
    "\n",
    "with open(\"Data\\\\netflix_titles.csv\", \"r\") as csv_file:\n",
    "    csv_reader = csv.reader(csv_file)\n",
    "    \n",
    "    next(csv_reader)\n",
    "    \n",
    "    with open ('netflix_dataset.txt', 'w') as txt_file:\n",
    "        txt\n",
    "    \n",
    "    for line in csv_reader:\n",
    "        print(line)"
   ]
  },
  {
   "cell_type": "code",
   "execution_count": 119,
   "metadata": {},
   "outputs": [
    {
     "data": {
      "text/plain": [
       "array(['International TV Shows', 'Dramas', 'Horror Movies',\n",
       "       'Action & Adventure', 'Crime TV Shows', 'Documentaries',\n",
       "       'Independent Movies', 'Comedies', 'Sports Movies', 'Anime Series',\n",
       "       'Reality TV', 'TV Comedies', 'Docuseries', 'Movies',\n",
       "       'British TV Shows', 'International Movies', 'Sci-Fi & Fantasy',\n",
       "       \"Kids' TV\", 'Children & Family Movies', 'TV Shows',\n",
       "       'Classic Movies', 'Thrillers', 'Stand-Up Comedy & Talk Shows',\n",
       "       'Stand-Up Comedy', 'Anime Features', 'Music & Musicals',\n",
       "       'TV Dramas', 'TV Horror', 'TV Action & Adventure',\n",
       "       'Classic & Cult TV', 'Romantic TV Shows', 'Cult Movies',\n",
       "       'TV Sci-Fi & Fantasy', 'Romantic Movies',\n",
       "       'Spanish-Language TV Shows', 'LGBTQ Movies'], dtype=object)"
      ]
     },
     "execution_count": 119,
     "metadata": {},
     "output_type": "execute_result"
    }
   ],
   "source": [
    "import re\n",
    "# Load csv dataset, select columns and convert  to txt file\n",
    "\n",
    "# Read csv\n",
    "raw_dataset_df= pd.read_csv(os.path.join(\"Data\\\\netflix_titles.csv\"))\n",
    "\n",
    "# Create Genre column\n",
    "raw_dataset_df[\"genre\"]= raw_dataset_df[\"listed_in\"].str.split(pat=\",\", n=1).str.get(0)\n",
    "\n",
    "# Cleanse description \n",
    "raw_dataset_df[\"plot_description\"]=raw_dataset_df[\"description\"].map(lambda x: re.sub( r'\"', '', x))\n",
    "\n",
    "plot_dataset_df= raw_dataset_df[[\"genre\",\"plot_description\"]].copy()\n",
    "plot_dataset= plot_dataset_df.to_csv('Data\\\\netflix_plot_dataset.txt', index=False, header=None, sep=';' )\n",
    "\n",
    "plot_dataset_df.genre.unique()\n"
   ]
  },
  {
   "cell_type": "code",
   "execution_count": null,
   "metadata": {},
   "outputs": [],
   "source": [
    " # Load model and Tokenizer\n",
    "    \n",
    "tokenizer = GPT2Tokenizer.from_pretrained('gpt2')\n",
    "model= GPT2LMHeadModel.from_pretrained('gpt2')\n",
    " model= model.to(device)   \n",
    "    \n",
    " special_tokens_dict = {\n",
    "        \"bos_token\": \"<BOS>\",\n",
    "       \"eos_token\": \"<EOS>\",\n",
    "        \"pad_token\": \"<PAD>\",\n",
    "   ...:         \"additional_special_tokens\": [\n",
    "   ...:            \"<romance>\",\n",
    "   ...:             \"<drama>\",\n",
    "   ...:             \"<comedy>\",\n",
    "   ...:             \"<documentary>\",\n",
    "   ...:             \"<action>\",\n",
    "   ...:             \"<international>\",\n",
    "   ...:             \"<children>\",\n",
    "   ...:             \"<crime>\",\n",
    "   ...:             \"<horror>\",\n",
    "   ...:             \"<anime>\",\n",
    "   ...:             \"<other>\",\n",
    "   ...:         ],\n",
    "   ...:     }\n",
    "   ...: \n",
    "   ...: num_added_toks = tokenizer.add_special_tokens(special_tokens_dict)\n",
    "   ...: print('We have added', num_added_toks, 'tokens')\n",
    "   ...: model.resize_token_embeddings(len(tokenizer))\n",
    "    \n",
    "    \n",
    "    \n",
    "    "
   ]
  },
  {
   "cell_type": "code",
   "execution_count": null,
   "metadata": {},
   "outputs": [],
   "source": [
    "# Dataset Class\n",
    "   class NetflixPlotDataset(Dataset):\n",
    "            def __init__(self, tokenizer=tokenizer, dataset_path=os.path.join(\"Data\\\\netflix_plot_dataset.txt\"), block_size=50): # block_size missing\n",
    "   \n",
    "              with open(dataset_path, encoding=\"utf-8\") as f:\n",
    "                      lines = [line for line in f.read().splitlines() if (len(line) > 0 and not line.isspace())]\n",
    "   \n",
    "               self.examples = tokenizer.batch_encode_plus(lines, add_special_tokens=True, max_length=block_size)[\"input_ids\"]\n",
    "   \n",
    "          def __len__(self):\n",
    "            return len(self.examples)\n",
    "\n",
    "         def __getitem__(self, i):\n",
    "             return torch.tensor(self.examples[i], dtype=torch.long)"
   ]
  },
  {
   "cell_type": "code",
   "execution_count": null,
   "metadata": {},
   "outputs": [],
   "source": [
    "dataset=NetflixPlotDataset()"
   ]
  },
  {
   "cell_type": "code",
   "execution_count": 5,
   "metadata": {},
   "outputs": [
    {
     "data": {
      "text/plain": [
       "'<|endoftext|>'"
      ]
     },
     "execution_count": 5,
     "metadata": {},
     "output_type": "execute_result"
    }
   ],
   "source": [
    "tokenizer.decode(tokenizer.eos_token_id)"
   ]
  },
  {
   "cell_type": "code",
   "execution_count": 60,
   "metadata": {},
   "outputs": [],
   "source": [
    "import torch\n",
    "\n",
    "sentence = \"I am french\"\n",
    "input_ids= tokenizer.encode(sentence, return_tensors='pt')"
   ]
  },
  {
   "cell_type": "code",
   "execution_count": 61,
   "metadata": {},
   "outputs": [
    {
     "data": {
      "text/plain": [
       "tensor([   40,   716, 48718])"
      ]
     },
     "execution_count": 61,
     "metadata": {},
     "output_type": "execute_result"
    }
   ],
   "source": [
    "input_ids[0]"
   ]
  },
  {
   "cell_type": "code",
   "execution_count": 62,
   "metadata": {},
   "outputs": [],
   "source": [
    "output = model.generate(input_ids, max_length=100, num_beans=5, no_repeat_ngram_size=2, early_stopping=True)"
   ]
  },
  {
   "cell_type": "code",
   "execution_count": 63,
   "metadata": {},
   "outputs": [
    {
     "data": {
      "text/plain": [
       "\"I am french, I am a French person. I have a lot of friends in France, and I'm very proud of them.\\n\\nI'm a very good person, but I don't know how to express myself. It's not easy to do. But I know that I can do it. And I want to be able to. So I've been doing this for a long time.\""
      ]
     },
     "execution_count": 63,
     "metadata": {},
     "output_type": "execute_result"
    }
   ],
   "source": [
    "tokenizer.decode(output[0], skip_special_tokens=True)"
   ]
  },
  {
   "cell_type": "code",
   "execution_count": null,
   "metadata": {},
   "outputs": [],
   "source": []
  }
 ],
 "metadata": {
  "kernelspec": {
   "display_name": "Python 3",
   "language": "python",
   "name": "python3"
  },
  "language_info": {
   "codemirror_mode": {
    "name": "ipython",
    "version": 3
   },
   "file_extension": ".py",
   "mimetype": "text/x-python",
   "name": "python",
   "nbconvert_exporter": "python",
   "pygments_lexer": "ipython3",
   "version": "3.7.6"
  }
 },
 "nbformat": 4,
 "nbformat_minor": 4
}
