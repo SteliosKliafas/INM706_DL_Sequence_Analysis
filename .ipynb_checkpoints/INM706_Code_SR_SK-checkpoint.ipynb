{
 "cells": [
  {
   "cell_type": "markdown",
   "metadata": {
    "id": "yjzZrB9zd_F1"
   },
   "source": [
    "# INM706 Deep Learning for Sequence Analysis\n",
    "### Sarah Rhalem (190051884) & Stelios Kliafas (200041011)"
   ]
  },
  {
   "cell_type": "markdown",
   "metadata": {},
   "source": [
    "### Import Modules & Packages"
   ]
  },
  {
   "cell_type": "markdown",
   "metadata": {
    "id": "qpkCS212d_GQ"
   },
   "source": [
    "Draft Notes/ Working comments:\n",
    "Dataset >> Problem +Evaluation Metric >> Model"
   ]
  },
  {
   "cell_type": "code",
   "execution_count": 1,
   "metadata": {
    "colab": {
     "base_uri": "https://localhost:8080/"
    },
    "id": "1cctN2saeTaC",
    "outputId": "0941f7a7-9b78-4709-fe72-1a3c379fb32f"
   },
   "outputs": [],
   "source": [
    "#!pip install transformers"
   ]
  },
  {
   "cell_type": "code",
   "execution_count": 2,
   "metadata": {
    "id": "6RAnpjawd_GT"
   },
   "outputs": [],
   "source": [
    "import os\n",
    "import json\n",
    "import torch\n",
    "import re\n",
    "import numpy as np\n",
    "import pandas as pd\n",
    "import csv\n",
    "import random\n",
    "import time\n",
    "import random\n",
    "import torch.nn as nn\n",
    "import pickle\n",
    "import warnings\n",
    "import matplotlib.pyplot as plt\n",
    "from tqdm.notebook import tqdm\n",
    "from matplotlib.ticker import MaxNLocator\n",
    "from torch.utils.data import Dataset, DataLoader, random_split, SequentialSampler, RandomSampler\n",
    "from transformers import GPT2LMHeadModel, GPT2Tokenizer, GPT2Config, AdamW, get_linear_schedule_with_warmup, BertTokenizer, BertForSequenceClassification, BertConfig\n",
    "from nltk.translate.bleu_score import sentence_bleu, corpus_bleu, SmoothingFunction\n",
    "from nltk.translate.nist_score import corpus_nist\n",
    "warnings.simplefilter(\"ignore\", UserWarning)\n",
    "\n",
    "from modules.bert_dataset import *\n",
    "from modules.bert_train_valid import *\n",
    "from modules.generate_modules import *\n",
    "from modules.gpt2_netflix_dataset import *\n",
    "from modules.gpt2_train_valid import *\n",
    "from modules.split_datasets_and_create_dataloaders import *\n",
    "from modules.utils import *\n"
   ]
  },
  {
   "cell_type": "code",
   "execution_count": 3,
   "metadata": {
    "colab": {
     "base_uri": "https://localhost:8080/"
    },
    "id": "G8zqkulrd_GV",
    "outputId": "29a6af4a-d753-4f68-819b-09f31cc9fe00"
   },
   "outputs": [
    {
     "name": "stdout",
     "output_type": "stream",
     "text": [
      "cpu\n"
     ]
    }
   ],
   "source": [
    "# Set to use GPU on device if available:\n",
    "device=torch.device(\"cuda:0\" if torch.cuda.is_available() else \"cpu\")\n",
    "print(device)"
   ]
  },
  {
   "cell_type": "code",
   "execution_count": 4,
   "metadata": {
    "colab": {
     "base_uri": "https://localhost:8080/",
     "height": 35
    },
    "id": "nQseXoIzd_GZ",
    "outputId": "2a867c3c-1d56-4775-ff0b-861b54f6987f"
   },
   "outputs": [
    {
     "data": {
      "text/plain": [
       "'C:\\\\Users\\\\public2\\\\Desktop\\\\INM706_DL_Sequence_Analysis'"
      ]
     },
     "execution_count": 4,
     "metadata": {},
     "output_type": "execute_result"
    }
   ],
   "source": [
    "# Working directory\n",
    "os.getcwd()"
   ]
  },
  {
   "cell_type": "markdown",
   "metadata": {},
   "source": [
    "### Loading & Structuring Data"
   ]
  },
  {
   "cell_type": "code",
   "execution_count": 5,
   "metadata": {
    "colab": {
     "base_uri": "https://localhost:8080/"
    },
    "id": "-L_kdVVTd_Gc",
    "outputId": "de53a325-5980-4df6-90ae-e5781280c466"
   },
   "outputs": [
    {
     "data": {
      "text/plain": [
       "'In a future where the elite inhabit an island paradise far from the crowded slums, you get one chance to join the 3% saved from squalor.'"
      ]
     },
     "execution_count": 5,
     "metadata": {},
     "output_type": "execute_result"
    }
   ],
   "source": [
    "# Load csv dataset, create listing column\n",
    "raw_dataset_df= pd.read_csv(os.path.join(\"Data\\\\testing_dataset.csv\") , encoding=\"utf8\")\n",
    "raw_dataset_df[\"listing\"]= raw_dataset_df[\"listed_in\"].str.split(pat=\",\", n=1).str.get(0)\n",
    "\n",
    "# Cleanse Data\n",
    "raw_dataset_df[\"description\"].isna().sum() # Check null entries for description - None\n",
    "raw_dataset_df[\"plot_description\"]=raw_dataset_df[\"description\"].map(lambda x: re.sub( r'\"', '', x)) #remove quotation marks\n",
    "\n",
    "# Print example of plot description\n",
    "raw_dataset_df[\"description\"].to_list()[0]"
   ]
  },
  {
   "cell_type": "code",
   "execution_count": 34,
   "metadata": {},
   "outputs": [],
   "source": [
    "# Need to fix this \n",
    "\n",
    "\n",
    "# # Exploratory Data Analysis for the Netflix Plot Dataset\n",
    "# # Maximum length of plot description is < 45 words. Max length of generation will be set to ~50 \n",
    "# raw_dataset_df['Number_of_words'] = raw_dataset_df.description.apply(lambda x: len(str(x).split(' ')))\n",
    "# x=raw_dataset_df['Number_of_words']\n",
    "# plt.hist(raw_dataset_df['Number_of_words'])\n",
    "# plt.title(\"Plot samples by number of words\", fontsize=11)\n",
    "# plt.axvline(x.mean(), color='k', linestyle='dashed', linewidth=1)\n",
    "# plt.text(x.mean() ,2500 ,'average',rotation=90)\n",
    "# plt.xlabel('Number of Words')\n",
    "# plt.ylabel('Number of Plot Samples')\n",
    "# #plt.savefig(os.path.join(path, r'XXXXXXX.jpg'), dpi=300, bbox_inches='tight')\n",
    "# plt.show()\n"
   ]
  },
  {
   "cell_type": "code",
   "execution_count": 7,
   "metadata": {},
   "outputs": [
    {
     "data": {
      "image/png": "[encoded data removed]",
      "text/plain": [
       "<Figure size 432x288 with 1 Axes>"
      ]
     },
     "metadata": {
      "needs_background": "light"
     },
     "output_type": "display_data"
    }
   ],
   "source": [
    "# Plots by genre (top 10) - will map all genres to top 10 genres\n",
    "#genre_count= raw_dataset_df['listing'].value_counts()\n",
    "raw_dataset_df.listing.value_counts()[:10].sort_values().plot(kind = 'barh')\n",
    "plt.title(\"Plot samples by genre - Top 10\")\n",
    "plt.xlabel(\"Number of Plot Samples\")\n",
    "plt.ylabel('Genre')\n",
    "plt.show()"
   ]
  },
  {
   "cell_type": "code",
   "execution_count": 8,
   "metadata": {},
   "outputs": [
    {
     "name": "stdout",
     "output_type": "stream",
     "text": [
      "           genre                                   plot_description\n",
      "0  international  In a future where the elite inhabit an island ...\n",
      "1          drama  After a devastating earthquake hits Mexico Cit...\n",
      "2         horror  When an army recruit is found dead, his fellow...\n",
      "3         action  In a postapocalyptic world, rag-doll robots hi...\n",
      "4          drama  A brilliant group of students become card-coun...\n",
      "['international' 'drama' 'horror' 'action' 'crime' 'documentary' 'other'\n",
      " 'comedy' 'anime']\n"
     ]
    }
   ],
   "source": [
    "# Map each data sample listing to a generic genre\n",
    "# Identify the show listings for mapping to summarised genres\n",
    "raw_dataset_df.listing.value_counts()\n",
    "\n",
    "# map show listing to a specific genre. Note: Listing types with under ~100 data samples are classified under the genre \"Other\"\n",
    "genre_mapping= { \"romance\": {\"Romantic TV Shows\", \"Romantic Movies\"} ,\n",
    "                \"drama\": {\"Dramas\", \"TV Dramas\"}  ,\n",
    "                 \"comedy\": {\"Comedies\", \"Stand-Up Comedy\", \"TV Comedies\", \"Stand-Up Comedy & Talk Shows\"},\n",
    "                 \"documentary\": {\"Documentaries\", \"Docuseries\"},\n",
    "                 \"action\": {\"Action & Adventure\", \"TV Action & Adventure\"} ,\n",
    "                 \"international\": {\"International TV Shows\", \"International Movies\", \"Spanish-Language TV Shows\"},\n",
    "                 \"children\": {\"Children & Family Movies\", \"Kids' TV\"},\n",
    "                 \"crime\": {\"Crime TV Shows\"},\n",
    "                 \"horror\": {\"Horror Movies\", \"TV Horror\"} ,\n",
    "                 \"anime\" : {\"Anime Series\", \"Anime Features\"},\n",
    "                 \"other\" : {\"Thrillers\", \"British TV Shows\", \"Reality TV\", \"Classic & Cult TV\", \"TV Shows\", \"TV Sci-Fi & Fantasy\",\n",
    "                         \"Classic Movies\", \"Movies\", \"Independent Movies\", \"Cult Movies\", \"Sports Movies\", \"LGBTQ Movies\", \"Music & Musicals\",\n",
    "                         \"Sci-Fi & Fantasy\"} }\n",
    "\n",
    "# Add genre column based on listing mapping\n",
    "raw_dataset_df[\"genre\"] = raw_dataset_df[\"listing\"].map(map_function(genre_mapping))\n",
    "\n",
    "# Write to txt file\n",
    "plot_dataset_df= raw_dataset_df[[\"genre\",\"plot_description\"]].copy()\n",
    "plot_dataset= plot_dataset_df.to_csv('Data\\\\netflix_plot_dataset.txt', index=False, header=None, sep=\":\", doublequote=False )\n",
    "\n",
    "# Sense check - view data header and check all descriptions were mapped\n",
    "print(plot_dataset_df.head())\n",
    "print(plot_dataset_df.genre.unique())"
   ]
  },
  {
   "cell_type": "markdown",
   "metadata": {},
   "source": [
    "### GPT-2 Model - Tokenizer and Configuration"
   ]
  },
  {
   "cell_type": "code",
   "execution_count": 9,
   "metadata": {},
   "outputs": [
    {
     "name": "stdout",
     "output_type": "stream",
     "text": [
      "We have added 2 tokens\n"
     ]
    }
   ],
   "source": [
    "# Load Tokenizer and config \n",
    "configuration = GPT2Config.from_pretrained('gpt2')\n",
    "tokenizer = GPT2Tokenizer.from_pretrained('gpt2')\n",
    "\n",
    "# Set pad token to eos token. Padding for GPT-2 occurs on the right so will be set to eos token.\n",
    "configuration.pad_token_id = configuration.eos_token_id\n",
    "tokenizer.pad_token = tokenizer.eos_token\n",
    "\n",
    "# Define special tokens to be used\n",
    "special_tokens_dict = {\n",
    "                \"bos_token\": \"<genre>\",\n",
    "                 \"sep_token\":\"<plot>\",\n",
    "                 \"unk_token\": \"<unknown>\"\n",
    "            }\n",
    "# Add special tokens \n",
    "num_of_toks= tokenizer.add_special_tokens(special_tokens_dict)\n",
    "print('We have added', num_of_toks, 'tokens')\n"
   ]
  },
  {
   "cell_type": "code",
   "execution_count": 10,
   "metadata": {
    "colab": {
     "base_uri": "https://localhost:8080/"
    },
    "id": "W_rVxQDzd_Go",
    "outputId": "76052db6-d62b-4907-ef01-bd33dd099bca"
   },
   "outputs": [
    {
     "data": {
      "text/plain": [
       "99"
      ]
     },
     "execution_count": 10,
     "metadata": {},
     "output_type": "execute_result"
    }
   ],
   "source": [
    "# Instantiate dataset and return length\n",
    "dataset=NetflixPlotDataset(tokenizer)\n",
    "dataset.__len__()"
   ]
  },
  {
   "cell_type": "code",
   "execution_count": 11,
   "metadata": {},
   "outputs": [
    {
     "data": {
      "text/plain": [
       "'<genre> drama : <plot> When a middle-aged divorcee returns to Kolkata to visit his ailing father, long-buried memories resurface, bringing new discoveries with them.<|endoftext|><|endoftext|><|endoftext|><|endoftext|><|endoftext|><|endoftext|><|endoftext|><|endoftext|><|endoftext|><|endoftext|><|endoftext|><|endoftext|>'"
      ]
     },
     "execution_count": 11,
     "metadata": {},
     "output_type": "execute_result"
    }
   ],
   "source": [
    "# Example of decoded tokenizer plot sample from the dataset.\n",
    "tokenizer.decode(dataset[23])"
   ]
  },
  {
   "cell_type": "markdown",
   "metadata": {},
   "source": [
    "## Fine-tuning GPT-2 \n",
    "\n",
    "### Training & Validation"
   ]
  },
  {
   "cell_type": "code",
   "execution_count": 12,
   "metadata": {},
   "outputs": [
    {
     "name": "stdout",
     "output_type": "stream",
     "text": [
      "Number of Training samples: 69\n",
      "Number of Validation samples: 19\n",
      "Number of Testing samples: 11\n"
     ]
    }
   ],
   "source": [
    "# load Dataloaders\n",
    "dataloaders = split_datasets_and_create_dataloaders(dataset, batch_size=10)"
   ]
  },
  {
   "cell_type": "code",
   "execution_count": 13,
   "metadata": {},
   "outputs": [],
   "source": [
    "# Re-Instantiate model and corresponding config file, reapply resizing for token embeddings\n",
    "# Re-run before train_val method is called to ensure that the pretrained model is not being updated after every train call during hyperparameter tuning\n",
    "configuration = GPT2Config.from_pretrained('gpt2')\n",
    "configuration.pad_token_id = configuration.eos_token_id\n",
    "\n",
    "model= GPT2LMHeadModel.from_pretrained(\"gpt2\", config=configuration)\n",
    "model= model.to(device)\n",
    "model.resize_token_embeddings(len(tokenizer)) # resize token embeddings as model is instantiated\n",
    "\n",
    "#Hyperparameters\n",
    "EPOCHS=4  \n",
    "TRAIN_STEPS= len(dataloaders['train_dataloader'])*EPOCHS\n",
    "WU_RATE= 0.2\n",
    "WU_STEPS= TRAIN_STEPS * WU_RATE# Warm up rate of ~0.2% \n",
    "OPTIM= AdamW(model.parameters(), lr = 3e-5,eps = 1e-8, weight_decay=0.01)\n",
    "SCHEDULER= get_linear_schedule_with_warmup(optimizer=OPTIM, num_warmup_steps =WU_STEPS, num_training_steps =TRAIN_STEPS)\n"
   ]
  },
  {
   "cell_type": "code",
   "execution_count": 14,
   "metadata": {},
   "outputs": [
    {
     "name": "stdout",
     "output_type": "stream",
     "text": [
      "\n",
      "\n",
      "---------------\n",
      "| TRAINING... |\n",
      "---------------\n"
     ]
    },
    {
     "data": {
      "application/vnd.jupyter.widget-view+json": {
       "model_id": "6c3d277b3c654e3e8f8a2c064754f9f0",
       "version_major": 2,
       "version_minor": 0
      },
      "text/plain": [
       "HBox(children=(FloatProgress(value=0.0, max=7.0), HTML(value='')))"
      ]
     },
     "metadata": {},
     "output_type": "display_data"
    },
    {
     "name": "stdout",
     "output_type": "stream",
     "text": [
      "\n",
      " epoch: 1, train loss: 77.861501, train ppl: 6528619706562334930016678652674048.000000, train time:00:07:14\n",
      "Validating...\n"
     ]
    },
    {
     "data": {
      "application/vnd.jupyter.widget-view+json": {
       "model_id": "8645427cde694d40a5e87cd7d31366ae",
       "version_major": 2,
       "version_minor": 0
      },
      "text/plain": [
       "HBox(children=(FloatProgress(value=0.0, max=2.0), HTML(value='')))"
      ]
     },
     "metadata": {},
     "output_type": "display_data"
    },
    {
     "name": "stdout",
     "output_type": "stream",
     "text": [
      "\n",
      " epoch: 1, val loss: 51.846729, val ppl: 32866119410845086646272.000000, val_time: 00:00:01\n",
      "\n",
      "Training Finished\n"
     ]
    },
    {
     "data": {
      "application/vnd.jupyter.widget-view+json": {
       "model_id": "c9691e6a5755471bab92da9dbbe291bd",
       "version_major": 2,
       "version_minor": 0
      },
      "text/plain": [
       "HBox(children=(FloatProgress(value=0.0, max=7.0), HTML(value='')))"
      ]
     },
     "metadata": {},
     "output_type": "display_data"
    },
    {
     "name": "stdout",
     "output_type": "stream",
     "text": [
      "\n",
      " epoch: 2, train loss: 17.893262, train ppl: 59012680.000000, train time:00:08:47\n",
      "Validating...\n"
     ]
    },
    {
     "data": {
      "application/vnd.jupyter.widget-view+json": {
       "model_id": "7212be759e264cd6973a9c27f90a8b43",
       "version_major": 2,
       "version_minor": 0
      },
      "text/plain": [
       "HBox(children=(FloatProgress(value=0.0, max=2.0), HTML(value='')))"
      ]
     },
     "metadata": {},
     "output_type": "display_data"
    },
    {
     "name": "stdout",
     "output_type": "stream",
     "text": [
      "\n",
      " epoch: 2, val loss: 8.425192, val ppl: 4560.519531, val_time: 00:00:00\n",
      "\n",
      "Training Finished\n"
     ]
    },
    {
     "data": {
      "application/vnd.jupyter.widget-view+json": {
       "model_id": "ae92ff716681406286af1dd0131f8eb1",
       "version_major": 2,
       "version_minor": 0
      },
      "text/plain": [
       "HBox(children=(FloatProgress(value=0.0, max=7.0), HTML(value='')))"
      ]
     },
     "metadata": {},
     "output_type": "display_data"
    },
    {
     "name": "stdout",
     "output_type": "stream",
     "text": [
      "\n",
      " epoch: 3, train loss: 7.190811, train ppl: 1327.179321, train time:00:09:39\n",
      "Validating...\n"
     ]
    },
    {
     "data": {
      "application/vnd.jupyter.widget-view+json": {
       "model_id": "6c306347e97b478e810e587b3f61688e",
       "version_major": 2,
       "version_minor": 0
      },
      "text/plain": [
       "HBox(children=(FloatProgress(value=0.0, max=2.0), HTML(value='')))"
      ]
     },
     "metadata": {},
     "output_type": "display_data"
    },
    {
     "name": "stdout",
     "output_type": "stream",
     "text": [
      "\n",
      " epoch: 3, val loss: 5.465960, val ppl: 236.502686, val_time: 00:00:00\n",
      "\n",
      "Training Finished\n"
     ]
    },
    {
     "data": {
      "application/vnd.jupyter.widget-view+json": {
       "model_id": "d8403e6d00af4c9a810880a7fb1022d5",
       "version_major": 2,
       "version_minor": 0
      },
      "text/plain": [
       "HBox(children=(FloatProgress(value=0.0, max=7.0), HTML(value='')))"
      ]
     },
     "metadata": {},
     "output_type": "display_data"
    },
    {
     "name": "stdout",
     "output_type": "stream",
     "text": [
      "\n",
      " epoch: 4, train loss: 5.702821, train ppl: 299.711639, train time:00:10:27\n",
      "Validating...\n"
     ]
    },
    {
     "data": {
      "application/vnd.jupyter.widget-view+json": {
       "model_id": "e03ec48fab7d4c099c800532763198e9",
       "version_major": 2,
       "version_minor": 0
      },
      "text/plain": [
       "HBox(children=(FloatProgress(value=0.0, max=2.0), HTML(value='')))"
      ]
     },
     "metadata": {},
     "output_type": "display_data"
    },
    {
     "name": "stdout",
     "output_type": "stream",
     "text": [
      "\n",
      " epoch: 4, val loss: 4.665784, val ppl: 106.248840, val_time: 00:00:00\n",
      "\n",
      "Training Finished\n"
     ]
    }
   ],
   "source": [
    "# Run train_val\n",
    "Test_1= gpt2_train_val(model, dataloaders, tokenizer, starting_epoch=0, optimizer=OPTIM, scheduler=SCHEDULER, epochs=EPOCHS, device=device)\n"
   ]
  },
  {
   "cell_type": "code",
   "execution_count": 15,
   "metadata": {},
   "outputs": [
    {
     "data": {
      "image/png": "[encoded data removed]",
      "text/plain": [
       "<Figure size 432x288 with 1 Axes>"
      ]
     },
     "metadata": {
      "needs_background": "light"
     },
     "output_type": "display_data"
    },
    {
     "data": {
      "image/png": "[encoded data removed]",
      "text/plain": [
       "<Figure size 432x288 with 1 Axes>"
      ]
     },
     "metadata": {
      "needs_background": "light"
     },
     "output_type": "display_data"
    }
   ],
   "source": [
    "# Display Train & Validation loss and perplexity plots\n",
    "\n",
    "fig= plot_train_val_loss(Test_1, \"Train & Validation loss\");\n",
    "#fig.savefig(r'Figures\\\\train_val_loss_4eps_crop.jpg')\n",
    "\n",
    "fig= plot_train_val_perplexity(Test_1, \"Train & Validation Perplexity\");\n",
    "#fig.savefig(r'Figures\\\\train_val_perplexity_4eps_crop.jpg')"
   ]
  },
  {
   "cell_type": "code",
   "execution_count": 16,
   "metadata": {},
   "outputs": [
    {
     "data": {
      "image/png": "[encoded data removed]",
      "text/plain": [
       "<Figure size 432x288 with 1 Axes>"
      ]
     },
     "metadata": {
      "needs_background": "light"
     },
     "output_type": "display_data"
    },
    {
     "data": {
      "image/png": "[encoded data removed]",
      "text/plain": [
       "<Figure size 432x288 with 1 Axes>"
      ]
     },
     "metadata": {
      "needs_background": "light"
     },
     "output_type": "display_data"
    },
    {
     "data": {
      "image/png": "[encoded data removed]",
      "text/plain": [
       "<Figure size 432x288 with 1 Axes>"
      ]
     },
     "metadata": {
      "needs_background": "light"
     },
     "output_type": "display_data"
    },
    {
     "data": {
      "image/png": "[encoded data removed]",
      "text/plain": [
       "<Figure size 432x288 with 1 Axes>"
      ]
     },
     "metadata": {
      "needs_background": "light"
     },
     "output_type": "display_data"
    }
   ],
   "source": [
    "# Plot train/val loss and perplexity\n",
    "fig= plot_train_loss(Test_1, \"Train loss\");\n",
    "#fig.savefig(r'Figures\\\\train_loss_4eps.jpg')\n",
    "\n",
    "fig= plot_val_loss(Test_1, \"Validation loss\");\n",
    "#fig.savefig(r'Figures\\\\val_loss_4eps.jpg')\n",
    "\n",
    "fig= plot_train_perplexity(Test_1, \"Train Perplexity\");\n",
    "#fig.savefig(r'Figures\\\\train_perplexity_4eps.jpg')\n",
    "\n",
    "fig= plot_val_perplexity(Test_1, \"Validation Perplexity\");\n",
    "#fig.savefig(r'Figures\\\\val_perplexity_4eps.jpg')\n"
   ]
  },
  {
   "cell_type": "code",
   "execution_count": 17,
   "metadata": {},
   "outputs": [
    {
     "data": {
      "text/plain": [
       "{'train_loss': [77.86150087629046,\n",
       "  17.89326204572405,\n",
       "  7.190811089106968,\n",
       "  5.702820709773472],\n",
       " 'val_loss': [51.84672927856445,\n",
       "  8.42519211769104,\n",
       "  5.465959787368774,\n",
       "  4.665783643722534],\n",
       " 'train_perplexity': [tensor(6.5286e+33),\n",
       "  tensor(59012680.),\n",
       "  tensor(1327.1793),\n",
       "  tensor(299.7116)],\n",
       " 'val_perplexity': [tensor(3.2866e+22),\n",
       "  tensor(4560.5195),\n",
       "  tensor(236.5027),\n",
       "  tensor(106.2488)]}"
      ]
     },
     "execution_count": 17,
     "metadata": {},
     "output_type": "execute_result"
    }
   ],
   "source": [
    "Test_1"
   ]
  },
  {
   "cell_type": "markdown",
   "metadata": {},
   "source": [
    "## Evaluating fine-tuned GPT-2 model \n",
    "\n",
    "### Testing and generating plots"
   ]
  },
  {
   "cell_type": "code",
   "execution_count": 18,
   "metadata": {},
   "outputs": [
    {
     "name": "stdout",
     "output_type": "stream",
     "text": [
      "Number of Training samples: 69\n",
      "Number of Validation samples: 19\n",
      "Number of Testing samples: 11\n"
     ]
    }
   ],
   "source": [
    "# Instantiate model, apply resizing for token embeddings - re-run instantiation before training\n",
    "configuration = GPT2Config.from_pretrained('gpt2')\n",
    "configuration.pad_token_id = configuration.eos_token_id\n",
    "\n",
    "model= GPT2LMHeadModel.from_pretrained(\"gpt2\", config=configuration)\n",
    "model= model.to(device)\n",
    "model.resize_token_embeddings(len(tokenizer))\n",
    "\n",
    "dataloaders = split_datasets_and_create_dataloaders(dataset, batch_size=10)\n",
    "\n",
    "EPOCHS=10\n",
    "TRAIN_STEPS= len(dataloaders['train_dataloader'])*EPOCHS\n",
    "WU_RATE= 0.2\n",
    "WU_STEPS= TRAIN_STEPS * WU_RATE# Warm up rate of ~0.2% \n",
    "OPTIM= AdamW(model.parameters(), lr = 3e-5,eps = 1e-8, weight_decay=0.01)\n",
    "SCHEDULER= get_linear_schedule_with_warmup(optimizer=OPTIM, num_warmup_steps =WU_STEPS, num_training_steps =TRAIN_STEPS)\n",
    "\n",
    "\n",
    "#load_checkpoint(model, optimizer=OPTIM, scheduler=SCHEDULER, load_checkpoint_path= \"checkpoint_4.pth.tar\")"
   ]
  },
  {
   "cell_type": "code",
   "execution_count": 19,
   "metadata": {},
   "outputs": [
    {
     "data": {
      "application/vnd.jupyter.widget-view+json": {
       "model_id": "f094da6e0d0048de8096608d951a20bc",
       "version_major": 2,
       "version_minor": 0
      },
      "text/plain": [
       "HBox(children=(FloatProgress(value=0.0, max=2.0), HTML(value='')))"
      ]
     },
     "metadata": {},
     "output_type": "display_data"
    },
    {
     "name": "stdout",
     "output_type": "stream",
     "text": [
      "\n",
      "test loss: 93.939968, test ppl: inf, bleu score default:0.09178928469406582, bleu score modified 1: 0.14867098141643395, bleu score modified 2: 0.17940884281852873\n"
     ]
    }
   ],
   "source": [
    "test_run= test_generate(model, tokenizer, dataloaders, device)"
   ]
  },
  {
   "cell_type": "code",
   "execution_count": 20,
   "metadata": {},
   "outputs": [
    {
     "name": "stdout",
     "output_type": "stream",
     "text": [
      "anime: In the n a m e p O C Q R S T U V W A w 2 3\n",
      "romance: world is a world is a place in the region where there had been had been or that was so as\n",
      "children: that the that you, you and and I I the of of my on my on me me ( )\n",
      "crime: I in in for a an that $ as I a an $ and\n",
      " the my \"\n",
      "anime: Fm\n",
      " Fr a a r \" I A P S A E E I\n",
      " G G M\n",
      "romance: one which it is a one that the that the it, and I my about, about I my to\n",
      "documentary: individual individual person has been a member of the House of the House has been a member who is an person\n",
      "crime: S for its the character of the s, and as it is an l, that I am s,\n",
      "crime: of the and all of the and all for, it is a for, it is a if I in\n",
      "action: country could be used as a basis for the discussion of on in about which said I do am not sure\n",
      "other: person was a ( \" \" ),,,, ( ); ;. _. _\n",
      " the of\n",
      "comedy: \" \". }.. The I , It The I It\n",
      " {... the H G {\n",
      "romance: first one\n",
      " to and I,.; And the first,. In \" ( -- ) 11 12\n",
      "horror: the the The I - The I - There it -- – But it – It in, It in,\n",
      "crime: of of and \" and \" the that is the that is an a an a at at but because so\n",
      "international: the one the one is not a country that has been as a country and which is in an state of\n",
      "drama: \" \" I a m n d v e g f h j p r s t u\n",
      " the I\n",
      "documentary: final state of the game had been, but they I was not and \" even a that we should have\n",
      "international: be the United ( ) ( ) a n m s p t u v w x z\n",
      "romance: one one and the fact that you did not do have that the fact to and to have I I\n",
      "\n"
     ]
    }
   ],
   "source": [
    "# Generate 20 plot samples for human analysis and evaluation\n",
    "set_seed()\n",
    "test_samples= generate_text(model, tokenizer, device, num_samples=20) \n",
    "plot_samples_csv(test_samples, \"results/generated_plots_10.csv\")\n",
    "\n",
    "print(*test_samples, sep=\"\\n\")\n"
   ]
  },
  {
   "cell_type": "code",
   "execution_count": 21,
   "metadata": {},
   "outputs": [
    {
     "name": "stdout",
     "output_type": "stream",
     "text": [
      "test_results_4eps: {'mean_test_loss': 2.2205523558152027, 'mean_test_perplexity': tensor(9.2124), 'bleu_score_default': 0.2656229884281992, 'bleu_score_modified1': 0.4615032366702634, 'bleu_score_modified2': 0.5757460040325079}\n",
      "test_results_5eps: {'mean_test_loss': 2.232163253502968, 'mean_test_perplexity': tensor(9.3200), 'bleu_score_default': 0.26352389174391366, 'bleu_score_modified1': 0.4582023246689671, 'bleu_score_modified2': 0.5721885943523811}\n",
      "test_results_10eps: {'mean_test_loss': 2.308769724307916, 'mean_test_perplexity': tensor(10.0620), 'bleu_score_default': 0.2619485639996878, 'bleu_score_modified1': 0.45868924657359605, 'bleu_score_modified2': 0.5735864393209578}\n",
      "test_results_15eps: {'mean_test_loss': 2.442454231091035, 'mean_test_perplexity': tensor(11.5012), 'bleu_score_default': 0.2618981701455584, 'bleu_score_modified1': 0.4589993107018156, 'bleu_score_modified2': 0.5738677662513724}\n"
     ]
    }
   ],
   "source": [
    "# Load results from test runs for models trained on 4, 5, 10 and 15 epochs.\n",
    "\n",
    "test_results_4eps=load_test_results(\"Results/test_results_4eps.pickle\")\n",
    "test_results_5eps=load_test_results(\"Results/test_results_5eps.pickle\")\n",
    "test_results_10eps=load_test_results(\"Results/test_results_10eps.pickle\")\n",
    "test_results_15eps=load_test_results(\"Results/test_results_15eps.pickle\")\n",
    "\n",
    "print(\"test_results_4eps:\", test_results_4eps)\n",
    "\n",
    "print(\"test_results_5eps:\", test_results_5eps)\n",
    "\n",
    "print(\"test_results_10eps:\", test_results_10eps)\n",
    "\n",
    "print(\"test_results_15eps:\", test_results_15eps)"
   ]
  },
  {
   "cell_type": "markdown",
   "metadata": {},
   "source": [
    "# GPT-2 Vanilla\n",
    "### Test vanilla GPT-2 (without fine-tuning) "
   ]
  },
  {
   "cell_type": "code",
   "execution_count": 22,
   "metadata": {},
   "outputs": [
    {
     "data": {
      "application/vnd.jupyter.widget-view+json": {
       "model_id": "65df3a89fd804cf2a9313a6339730eeb",
       "version_major": 2,
       "version_minor": 0
      },
      "text/plain": [
       "HBox(children=(FloatProgress(value=0.0, max=2.0), HTML(value='')))"
      ]
     },
     "metadata": {},
     "output_type": "display_data"
    },
    {
     "name": "stdout",
     "output_type": "stream",
     "text": [
      "\n",
      "test loss: 90.802029, test ppl: inf, bleu score default:0.11817619355043602, bleu score modified 1: 0.1907157963047158, bleu score modified 2: 0.2306959415126402\n"
     ]
    }
   ],
   "source": [
    "configuration = GPT2Config.from_pretrained('gpt2')\n",
    "configuration.pad_token_id = configuration.eos_token_id\n",
    "\n",
    "model= GPT2LMHeadModel.from_pretrained(\"gpt2\", config=configuration)\n",
    "model= model.to(device)\n",
    "model.resize_token_embeddings(len(tokenizer))\n",
    "\n",
    "test_vanilla= test_generate(model, tokenizer, dataloaders, device)"
   ]
  },
  {
   "cell_type": "code",
   "execution_count": 23,
   "metadata": {},
   "outputs": [
    {
     "name": "stdout",
     "output_type": "stream",
     "text": [
      "anime: the and The my I\n",
      " more I my\n",
      " more a an some to to they me me this an\n",
      "romance: person individual have become a person; the \" or an a one an and the \" of of,,\n",
      "children: the the anchild. a an that that a n n m m l r r s st s st\n",
      "crime: I a I a an an \" \" it it\n",
      " and the in that and in the this, of\n",
      "anime: the and an of an of a a\n",
      "romance: to \" to \" and and.; the,,,.,.;.,.;.,.-;.\"\n",
      "documentary: ( )\n",
      " the ( ) a\n",
      " a the in in over over under if if --, and are\n",
      "crime: \" a \" the n the e n m m e r o c u a l u b r i\n",
      "crime: I the first second second and the first by and by that that of of, said is to is to\n",
      "action: company, - service, - service – that to that to the it – the it and I I L\n"
     ]
    }
   ],
   "source": [
    "# Vanilla GPT-2 generated samples example\n",
    "test_samples= generate_text(model, tokenizer, device, num_samples=10) \n",
    "print(*test_samples, sep=\"\\n\")\n"
   ]
  },
  {
   "cell_type": "markdown",
   "metadata": {},
   "source": [
    "### BERT - Section"
   ]
  },
  {
   "cell_type": "code",
   "execution_count": 24,
   "metadata": {},
   "outputs": [
    {
     "data": {
      "text/html": [
       "<div>\n",
       "<style scoped>\n",
       "    .dataframe tbody tr th:only-of-type {\n",
       "        vertical-align: middle;\n",
       "    }\n",
       "\n",
       "    .dataframe tbody tr th {\n",
       "        vertical-align: top;\n",
       "    }\n",
       "\n",
       "    .dataframe thead th {\n",
       "        text-align: right;\n",
       "    }\n",
       "</style>\n",
       "<table border=\"1\" class=\"dataframe\">\n",
       "  <thead>\n",
       "    <tr style=\"text-align: right;\">\n",
       "      <th></th>\n",
       "      <th>genre</th>\n",
       "      <th>plot_description</th>\n",
       "      <th>genre_codes</th>\n",
       "    </tr>\n",
       "  </thead>\n",
       "  <tbody>\n",
       "    <tr>\n",
       "      <th>0</th>\n",
       "      <td>international</td>\n",
       "      <td>In a future where the elite inhabit an island ...</td>\n",
       "      <td>7</td>\n",
       "    </tr>\n",
       "    <tr>\n",
       "      <th>1</th>\n",
       "      <td>drama</td>\n",
       "      <td>After a devastating earthquake hits Mexico Cit...</td>\n",
       "      <td>5</td>\n",
       "    </tr>\n",
       "    <tr>\n",
       "      <th>2</th>\n",
       "      <td>horror</td>\n",
       "      <td>When an army recruit is found dead, his fellow...</td>\n",
       "      <td>6</td>\n",
       "    </tr>\n",
       "    <tr>\n",
       "      <th>3</th>\n",
       "      <td>action</td>\n",
       "      <td>In a postapocalyptic world, rag-doll robots hi...</td>\n",
       "      <td>0</td>\n",
       "    </tr>\n",
       "    <tr>\n",
       "      <th>4</th>\n",
       "      <td>drama</td>\n",
       "      <td>A brilliant group of students become card-coun...</td>\n",
       "      <td>5</td>\n",
       "    </tr>\n",
       "  </tbody>\n",
       "</table>\n",
       "</div>"
      ],
      "text/plain": [
       "           genre                                   plot_description  \\\n",
       "0  international  In a future where the elite inhabit an island ...   \n",
       "1          drama  After a devastating earthquake hits Mexico Cit...   \n",
       "2         horror  When an army recruit is found dead, his fellow...   \n",
       "3         action  In a postapocalyptic world, rag-doll robots hi...   \n",
       "4          drama  A brilliant group of students become card-coun...   \n",
       "\n",
       "   genre_codes  \n",
       "0            7  \n",
       "1            5  \n",
       "2            6  \n",
       "3            0  \n",
       "4            5  "
      ]
     },
     "execution_count": 24,
     "metadata": {},
     "output_type": "execute_result"
    }
   ],
   "source": [
    "plot_dataset_df[\"genre\"] = plot_dataset_df[\"genre\"].astype('category')\n",
    "plot_dataset_df[\"genre_codes\"] = plot_dataset_df['genre'].cat.codes\n",
    "plot_dataset_df.head()"
   ]
  },
  {
   "cell_type": "code",
   "execution_count": 25,
   "metadata": {},
   "outputs": [
    {
     "data": {
      "text/plain": [
       "8"
      ]
     },
     "execution_count": 25,
     "metadata": {},
     "output_type": "execute_result"
    }
   ],
   "source": [
    "plot_dataset_df[\"genre_codes\"].max() # Number of label classes"
   ]
  },
  {
   "cell_type": "code",
   "execution_count": 26,
   "metadata": {},
   "outputs": [],
   "source": [
    "labels = plot_dataset_df.genre_codes.values\n",
    "movie_plots = plot_dataset_df.plot_description.values"
   ]
  },
  {
   "cell_type": "code",
   "execution_count": 27,
   "metadata": {},
   "outputs": [],
   "source": [
    "config = BertConfig.from_pretrained('bert-base-cased', num_labels=plot_dataset_df[\"genre_codes\"].max()+1)\n",
    "tokenizer = BertTokenizer.from_pretrained('bert-base-cased')\n",
    "model = BertForSequenceClassification(config)"
   ]
  },
  {
   "cell_type": "code",
   "execution_count": 28,
   "metadata": {},
   "outputs": [
    {
     "data": {
      "text/plain": [
       "99"
      ]
     },
     "execution_count": 28,
     "metadata": {},
     "output_type": "execute_result"
    }
   ],
   "source": [
    "bert_dataset = BertDataset(movie_plots, labels, tokenizer)\n",
    "bert_dataset.__len__()"
   ]
  },
  {
   "cell_type": "code",
   "execution_count": 29,
   "metadata": {},
   "outputs": [
    {
     "name": "stdout",
     "output_type": "stream",
     "text": [
      "Number of Training samples: 69\n",
      "Number of Validation samples: 19\n",
      "Number of Testing samples: 11\n"
     ]
    }
   ],
   "source": [
    "dataloaders = split_datasets_and_create_dataloaders(bert_dataset, batch_size=10)"
   ]
  },
  {
   "cell_type": "code",
   "execution_count": 30,
   "metadata": {},
   "outputs": [],
   "source": [
    "#Hyperparameters\n",
    "EPOCHS=4  \n",
    "TRAIN_STEPS= len(dataloaders['train_dataloader'])*EPOCHS\n",
    "WU_RATE= 0.2\n",
    "WU_STEPS= TRAIN_STEPS * WU_RATE# Warm up rate of ~0.2% \n",
    "OPTIM= AdamW(model.parameters(), lr = 3e-5,eps = 1e-8, weight_decay=0.01)\n",
    "SCHEDULER= get_linear_schedule_with_warmup(optimizer=OPTIM, num_warmup_steps =WU_STEPS, num_training_steps =TRAIN_STEPS)"
   ]
  },
  {
   "cell_type": "code",
   "execution_count": 31,
   "metadata": {},
   "outputs": [
    {
     "name": "stdout",
     "output_type": "stream",
     "text": [
      "\n",
      "\n",
      "---------------\n",
      "| TRAINING... |\n",
      "---------------\n"
     ]
    },
    {
     "data": {
      "application/vnd.jupyter.widget-view+json": {
       "model_id": "d7bbe4a45f6249a4b3d605f501f9eb3f",
       "version_major": 2,
       "version_minor": 0
      },
      "text/plain": [
       "HBox(children=(FloatProgress(value=0.0, max=7.0), HTML(value='')))"
      ]
     },
     "metadata": {},
     "output_type": "display_data"
    },
    {
     "name": "stdout",
     "output_type": "stream",
     "text": [
      "Epoch:  1 / 4 Batch:  1 / 7 Loss:  2.2698121070861816 Accuracy:  0.0\n",
      "\n",
      " epoch: 1, train loss: 2.193900, train accuracy: 0.103175, train time:00:00:39\n",
      "Validating...\n"
     ]
    },
    {
     "data": {
      "application/vnd.jupyter.widget-view+json": {
       "model_id": "4837ba1e497c4a6094486f116c9359a7",
       "version_major": 2,
       "version_minor": 0
      },
      "text/plain": [
       "HBox(children=(FloatProgress(value=0.0, max=2.0), HTML(value='')))"
      ]
     },
     "metadata": {},
     "output_type": "display_data"
    },
    {
     "name": "stdout",
     "output_type": "stream",
     "text": [
      "\n",
      " epoch: 1, val loss: 1.851920, val accuracy: 0.322222, val_time: 00:00:02\n",
      "\n",
      "Training Finished\n"
     ]
    },
    {
     "data": {
      "application/vnd.jupyter.widget-view+json": {
       "model_id": "fcf46f8034be45688b602507fcb35c8c",
       "version_major": 2,
       "version_minor": 0
      },
      "text/plain": [
       "HBox(children=(FloatProgress(value=0.0, max=7.0), HTML(value='')))"
      ]
     },
     "metadata": {},
     "output_type": "display_data"
    },
    {
     "name": "stdout",
     "output_type": "stream",
     "text": [
      "Epoch:  2 / 4 Batch:  1 / 7 Loss:  2.5224215984344482 Accuracy:  0.2\n",
      "\n",
      " epoch: 2, train loss: 2.222825, train accuracy: 0.144444, train time:00:01:22\n",
      "Validating...\n"
     ]
    },
    {
     "data": {
      "application/vnd.jupyter.widget-view+json": {
       "model_id": "ce1a4c7ee1fd483bada6bf27c16bc1d6",
       "version_major": 2,
       "version_minor": 0
      },
      "text/plain": [
       "HBox(children=(FloatProgress(value=0.0, max=2.0), HTML(value='')))"
      ]
     },
     "metadata": {},
     "output_type": "display_data"
    },
    {
     "name": "stdout",
     "output_type": "stream",
     "text": [
      "\n",
      " epoch: 2, val loss: 2.168654, val accuracy: 0.050000, val_time: 00:00:04\n",
      "\n",
      "Training Finished\n"
     ]
    },
    {
     "data": {
      "application/vnd.jupyter.widget-view+json": {
       "model_id": "168c8dfa6c2a43a492b1f86a144ed0c0",
       "version_major": 2,
       "version_minor": 0
      },
      "text/plain": [
       "HBox(children=(FloatProgress(value=0.0, max=7.0), HTML(value='')))"
      ]
     },
     "metadata": {},
     "output_type": "display_data"
    },
    {
     "name": "stdout",
     "output_type": "stream",
     "text": [
      "Epoch:  3 / 4 Batch:  1 / 7 Loss:  1.9743525981903076 Accuracy:  0.1\n",
      "\n",
      " epoch: 3, train loss: 2.117161, train accuracy: 0.158730, train time:00:02:06\n",
      "Validating...\n"
     ]
    },
    {
     "data": {
      "application/vnd.jupyter.widget-view+json": {
       "model_id": "200ef976e4b74cb985f4ef6097319b30",
       "version_major": 2,
       "version_minor": 0
      },
      "text/plain": [
       "HBox(children=(FloatProgress(value=0.0, max=2.0), HTML(value='')))"
      ]
     },
     "metadata": {},
     "output_type": "display_data"
    },
    {
     "name": "stdout",
     "output_type": "stream",
     "text": [
      "\n",
      " epoch: 3, val loss: 1.943562, val accuracy: 0.211111, val_time: 00:00:02\n",
      "\n",
      "Training Finished\n"
     ]
    },
    {
     "data": {
      "application/vnd.jupyter.widget-view+json": {
       "model_id": "3824ffbcd7fc408984a801033e397263",
       "version_major": 2,
       "version_minor": 0
      },
      "text/plain": [
       "HBox(children=(FloatProgress(value=0.0, max=7.0), HTML(value='')))"
      ]
     },
     "metadata": {},
     "output_type": "display_data"
    },
    {
     "name": "stdout",
     "output_type": "stream",
     "text": [
      "Epoch:  4 / 4 Batch:  1 / 7 Loss:  2.271639823913574 Accuracy:  0.2\n",
      "\n",
      " epoch: 4, train loss: 2.097076, train accuracy: 0.187302, train time:00:02:50\n",
      "Validating...\n"
     ]
    },
    {
     "data": {
      "application/vnd.jupyter.widget-view+json": {
       "model_id": "b69be30cf83f4526a0795f1ce7d00c8d",
       "version_major": 2,
       "version_minor": 0
      },
      "text/plain": [
       "HBox(children=(FloatProgress(value=0.0, max=2.0), HTML(value='')))"
      ]
     },
     "metadata": {},
     "output_type": "display_data"
    },
    {
     "name": "stdout",
     "output_type": "stream",
     "text": [
      "\n",
      " epoch: 4, val loss: 1.943560, val accuracy: 0.322222, val_time: 00:00:04\n",
      "\n",
      "Training Finished\n"
     ]
    }
   ],
   "source": [
    "Test_bert= bert_train_val(model, dataloaders,starting_epoch=0, optimizer=OPTIM, scheduler=SCHEDULER, epochs=EPOCHS, device=device)"
   ]
  },
  {
   "cell_type": "code",
   "execution_count": 32,
   "metadata": {},
   "outputs": [
    {
     "data": {
      "image/png": "[encoded data removed]",
      "text/plain": [
       "<Figure size 432x288 with 1 Axes>"
      ]
     },
     "metadata": {
      "needs_background": "light"
     },
     "output_type": "display_data"
    },
    {
     "name": "stdout",
     "output_type": "stream",
     "text": [
      "\n"
     ]
    },
    {
     "data": {
      "image/png": "[encoded data removed]",
      "text/plain": [
       "<Figure size 432x288 with 1 Axes>"
      ]
     },
     "metadata": {
      "needs_background": "light"
     },
     "output_type": "display_data"
    }
   ],
   "source": [
    "# Display Train & Validation loss and perplexity plots\n",
    "\n",
    "fig= plot_train_val_loss(Test_bert, \"Train & Validation loss\");\n",
    "#fig.savefig(r'Figures\\\\train_val_loss_4eps_crop.jpg')\n",
    "print(\"\")\n",
    "fig= plot_train_val_accuracy(Test_bert, \"Train & Validation Accuracy\");\n",
    "#fig.savefig(r'Figures\\\\train_val_perplexity_4eps_crop.jpg')"
   ]
  },
  {
   "cell_type": "code",
   "execution_count": 33,
   "metadata": {},
   "outputs": [
    {
     "data": {
      "image/png": "[encoded data removed]",
      "text/plain": [
       "<Figure size 432x288 with 1 Axes>"
      ]
     },
     "metadata": {
      "needs_background": "light"
     },
     "output_type": "display_data"
    },
    {
     "data": {
      "image/png": "[encoded data removed]",
      "text/plain": [
       "<Figure size 432x288 with 1 Axes>"
      ]
     },
     "metadata": {
      "needs_background": "light"
     },
     "output_type": "display_data"
    },
    {
     "data": {
      "image/png": "[encoded data removed]",
      "text/plain": [
       "<Figure size 432x288 with 1 Axes>"
      ]
     },
     "metadata": {
      "needs_background": "light"
     },
     "output_type": "display_data"
    },
    {
     "data": {
      "image/png": "[encoded data removed]",
      "text/plain": [
       "<Figure size 432x288 with 1 Axes>"
      ]
     },
     "metadata": {
      "needs_background": "light"
     },
     "output_type": "display_data"
    }
   ],
   "source": [
    "# Plot train/val loss and perplexity\n",
    "fig= plot_train_loss(Test_bert, \"Train loss\");\n",
    "#fig.savefig(r'Figures\\\\train_loss_4eps.jpg')\n",
    "\n",
    "fig= plot_val_loss(Test_bert, \"Validation loss\");\n",
    "#fig.savefig(r'Figures\\\\val_loss_4eps.jpg')\n",
    "\n",
    "fig= plot_train_accuracy(Test_bert, \"Train Accuracy\");\n",
    "#fig.savefig(r'Figures\\\\train_perplexity_4eps.jpg')\n",
    "\n",
    "fig= plot_val_accuracy(Test_bert, \"Validation Accuracy\");\n",
    "#fig.savefig(r'Figures\\\\val_perplexity_4eps.jpg')\n"
   ]
  },
  {
   "cell_type": "markdown",
   "metadata": {},
   "source": [
    "#### IGNORE BELOW - WORKING CODE"
   ]
  },
  {
   "cell_type": "code",
   "execution_count": null,
   "metadata": {},
   "outputs": [],
   "source": []
  },
  {
   "cell_type": "code",
   "execution_count": null,
   "metadata": {},
   "outputs": [],
   "source": []
  },
  {
   "cell_type": "code",
   "execution_count": null,
   "metadata": {},
   "outputs": [],
   "source": []
  },
  {
   "cell_type": "code",
   "execution_count": null,
   "metadata": {},
   "outputs": [],
   "source": []
  }
 ],
 "metadata": {
  "colab": {
   "name": "INM706_Code_SR_SK (1).ipynb",
   "provenance": [],
   "toc_visible": true
  },
  "kernelspec": {
   "display_name": "Python 3",
   "language": "python",
   "name": "python3"
  },
  "language_info": {
   "codemirror_mode": {
    "name": "ipython",
    "version": 3
   },
   "file_extension": ".py",
   "mimetype": "text/x-python",
   "name": "python",
   "nbconvert_exporter": "python",
   "pygments_lexer": "ipython3",
   "version": "3.8.5"
  }
 },
 "nbformat": 4,
 "nbformat_minor": 4
}
